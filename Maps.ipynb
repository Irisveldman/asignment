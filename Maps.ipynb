{
 "cells": [
  {
   "cell_type": "markdown",
   "metadata": {},
   "source": [
    "# Maps\n",
    "\n",
    "Mark Klik & Misja Mikkers\n",
    "\n",
    "# Packages\n",
    "\n",
    "## Installing packages\n",
    "\n",
    "First, we have to install some packages to create custom maps:\n"
   ]
  },
  {
   "cell_type": "code",
   "execution_count": null,
   "metadata": {},
   "outputs": [],
   "source": [
    "install.packages('maptools', repos='http://cran.us.r-project.org')\n",
    "install.packages('rgdal', repos='http://cran.us.r-project.org')\n",
    "install.packages('rgeos', repos='http://cran.us.r-project.org')\n"
   ]
  },
  {
   "cell_type": "markdown",
   "metadata": {},
   "source": [
    "## Packages:"
   ]
  },
  {
   "cell_type": "code",
   "execution_count": null,
   "metadata": {},
   "outputs": [],
   "source": [
    "install.packages(\"../Package//thematicmaps_2.1.tar.gz\", repos = NULL, type = \"source\")"
   ]
  },
  {
   "cell_type": "code",
   "execution_count": null,
   "metadata": {},
   "outputs": [],
   "source": [
    "library(thematicmaps)\n",
    "library(tidyverse)\n",
    "library(stringr)"
   ]
  },
  {
   "cell_type": "markdown",
   "metadata": {
    "collapsed": true
   },
   "source": [
    "# First map\n",
    "\n",
    "To create maps you need polygon-data (data describing the polygons that constitute the map expressed in _x_ and _y_ coordinates). It is possible to buy this data from commercial parties, but more and more polygon data are published as open source data. For this course we used open source data from the CBS (central bureau of statitics in the Netherlands) and [Imergis](http://www.imergis.nl/asp/47.asp). To save you time, we converted the polygon data to _csv_ format.\n",
    "\n",
    "\n",
    "For our first basic map, we need some data about the Netherlands. The polygon data from municipalities were previously saved as a _csv_ in the folder \"Sourcedata\"."
   ]
  },
  {
   "cell_type": "code",
   "execution_count": 48,
   "metadata": {},
   "outputs": [
    {
     "data": {
      "text/html": [
       "<table>\n",
       "<thead><tr><th scope=col>name</th><th scope=col>id</th><th scope=col>x</th><th scope=col>y</th><th scope=col>order</th><th scope=col>hole</th><th scope=col>piece</th><th scope=col>group</th></tr></thead>\n",
       "<tbody>\n",
       "\t<tr><td>Appingedam</td><td>0         </td><td>251260.5  </td><td>594393.8  </td><td>1         </td><td>FALSE     </td><td>1         </td><td>0.1       </td></tr>\n",
       "\t<tr><td>Appingedam</td><td>0         </td><td>251427.8  </td><td>594486.7  </td><td>2         </td><td>FALSE     </td><td>1         </td><td>0.1       </td></tr>\n",
       "\t<tr><td>Appingedam</td><td>0         </td><td>251668.8  </td><td>594646.8  </td><td>3         </td><td>FALSE     </td><td>1         </td><td>0.1       </td></tr>\n",
       "\t<tr><td>Appingedam</td><td>0         </td><td>251713.5  </td><td>594770.9  </td><td>4         </td><td>FALSE     </td><td>1         </td><td>0.1       </td></tr>\n",
       "\t<tr><td>Appingedam</td><td>0         </td><td>251354.6  </td><td>595461.4  </td><td>5         </td><td>FALSE     </td><td>1         </td><td>0.1       </td></tr>\n",
       "\t<tr><td>Appingedam</td><td>0         </td><td>251310.3  </td><td>596022.5  </td><td>6         </td><td>FALSE     </td><td>1         </td><td>0.1       </td></tr>\n",
       "</tbody>\n",
       "</table>\n"
      ],
      "text/latex": [
       "\\begin{tabular}{r|llllllll}\n",
       " name & id & x & y & order & hole & piece & group\\\\\n",
       "\\hline\n",
       "\t Appingedam & 0          & 251260.5   & 594393.8   & 1          & FALSE      & 1          & 0.1       \\\\\n",
       "\t Appingedam & 0          & 251427.8   & 594486.7   & 2          & FALSE      & 1          & 0.1       \\\\\n",
       "\t Appingedam & 0          & 251668.8   & 594646.8   & 3          & FALSE      & 1          & 0.1       \\\\\n",
       "\t Appingedam & 0          & 251713.5   & 594770.9   & 4          & FALSE      & 1          & 0.1       \\\\\n",
       "\t Appingedam & 0          & 251354.6   & 595461.4   & 5          & FALSE      & 1          & 0.1       \\\\\n",
       "\t Appingedam & 0          & 251310.3   & 596022.5   & 6          & FALSE      & 1          & 0.1       \\\\\n",
       "\\end{tabular}\n"
      ],
      "text/markdown": [
       "\n",
       "name | id | x | y | order | hole | piece | group | \n",
       "|---|---|---|---|---|---|\n",
       "| Appingedam | 0          | 251260.5   | 594393.8   | 1          | FALSE      | 1          | 0.1        | \n",
       "| Appingedam | 0          | 251427.8   | 594486.7   | 2          | FALSE      | 1          | 0.1        | \n",
       "| Appingedam | 0          | 251668.8   | 594646.8   | 3          | FALSE      | 1          | 0.1        | \n",
       "| Appingedam | 0          | 251713.5   | 594770.9   | 4          | FALSE      | 1          | 0.1        | \n",
       "| Appingedam | 0          | 251354.6   | 595461.4   | 5          | FALSE      | 1          | 0.1        | \n",
       "| Appingedam | 0          | 251310.3   | 596022.5   | 6          | FALSE      | 1          | 0.1        | \n",
       "\n",
       "\n"
      ],
      "text/plain": [
       "  name       id x        y        order hole  piece group\n",
       "1 Appingedam 0  251260.5 594393.8 1     FALSE 1     0.1  \n",
       "2 Appingedam 0  251427.8 594486.7 2     FALSE 1     0.1  \n",
       "3 Appingedam 0  251668.8 594646.8 3     FALSE 1     0.1  \n",
       "4 Appingedam 0  251713.5 594770.9 4     FALSE 1     0.1  \n",
       "5 Appingedam 0  251354.6 595461.4 5     FALSE 1     0.1  \n",
       "6 Appingedam 0  251310.3 596022.5 6     FALSE 1     0.1  "
      ]
     },
     "metadata": {},
     "output_type": "display_data"
    }
   ],
   "source": [
    "map_municipal <- read.csv2(\"../Sourcedata/nld_municipal_map.csv\", stringsAsFactors = FALSE, dec = \".\")\n",
    "head(map_municipal)"
   ]
  },
  {
   "cell_type": "markdown",
   "metadata": {},
   "source": [
    "We will use package `thematicmaps` to make a map of the Netherlands. The package `thematicmaps` is an extension to the `ggplot2` package.\n",
    "\n",
    "The command `MapPlot()` creates the appropriate _theme_ in ggplot (basically everything white and square axis scales). With the command\n",
    "`AddMapLayer(MapPlot(), name_of_your_polygon_data)`, we can add a map to the drawing canvas:\n"
   ]
  },
  {
   "cell_type": "code",
   "execution_count": 49,
   "metadata": {},
   "outputs": [
    {
     "ename": "ERROR",
     "evalue": "Error in AddMapLayer(MapPlot(), map_municipal): could not find function \"AddMapLayer\"\n",
     "output_type": "error",
     "traceback": [
      "Error in AddMapLayer(MapPlot(), map_municipal): could not find function \"AddMapLayer\"\nTraceback:\n"
     ]
    }
   ],
   "source": [
    "AddMapLayer(MapPlot(), map_municipal)"
   ]
  },
  {
   "cell_type": "markdown",
   "metadata": {},
   "source": [
    "## Add information to the map:\n",
    "\n",
    "We will now add some information to the map. We will read a _csv_ file with some municapal data and calculate the percentage of females in each municipality. To do this, we need some commands of `dplyr` (which we will discuss in the next lecture)."
   ]
  },
  {
   "cell_type": "code",
   "execution_count": 50,
   "metadata": {},
   "outputs": [
    {
     "ename": "ERROR",
     "evalue": "Error in pop_data %>% select(name, pop_65plus): could not find function \"%>%\"\n",
     "output_type": "error",
     "traceback": [
      "Error in pop_data %>% select(name, pop_65plus): could not find function \"%>%\"\nTraceback:\n"
     ]
    }
   ],
   "source": [
    "pop_data <- read.csv2(\"../Sourcedata/nld_municipal_data.csv\")\n",
    "map_info <- pop_data %>%\n",
    "    select(name, pop_65plus)\n",
    "\n",
    "str(map_info)"
   ]
  },
  {
   "cell_type": "markdown",
   "metadata": {},
   "source": [
    "Now we can add a data-layer by using the `AddMapLayer()` command. With `AddMapLayer()`, data from two datasets is combined internally. To do that, the first columns of the dataframes should have identical purpose. Please check dat 'map_info' and 'map_municipal' can be merged by the variable \"name\"\n",
    "\n",
    "Please note, that because the package `thematicmaps` is based on `ggplot2`, we can add `ggplot2` commands. In this case, we have added a new legend title. Because the title is very long, we break the title into 2 substrings:\n"
   ]
  },
  {
   "cell_type": "code",
   "execution_count": 51,
   "metadata": {},
   "outputs": [
    {
     "ename": "ERROR",
     "evalue": "Error in AddMapLayer(MapPlot(), map_municipal, map_info): could not find function \"AddMapLayer\"\n",
     "output_type": "error",
     "traceback": [
      "Error in AddMapLayer(MapPlot(), map_municipal, map_info): could not find function \"AddMapLayer\"\nTraceback:\n"
     ]
    }
   ],
   "source": [
    "AddMapLayer(MapPlot(), map_municipal, map_info) +\n",
    "  guides(fill = guide_legend(title = \"Percentage of Elderly (65+)\\nin the population\"))"
   ]
  },
  {
   "cell_type": "markdown",
   "metadata": {},
   "source": [
    "We can also add points to a map.\n",
    "\n",
    "First we read the polygon data of the PC4 level as pc4_locations. We have prepared this in a _csv_ file \"nld_pc4_locations.csv\".\n",
    "\n",
    "The _X_ and _Y_ colums have to be numeric. \n",
    "\n",
    "Since we only want a few points, we will just take a sample of the data and call this \"sample_locations\"."
   ]
  },
  {
   "cell_type": "code",
   "execution_count": 37,
   "metadata": {},
   "outputs": [
    {
     "ename": "ERROR",
     "evalue": "Error in read.csv2(\"../Sourcedata/nld_pc4_locations.csv\") %>% mutate(X = as.numeric(as.character(X))) %>% : could not find function \"%>%\"\n",
     "output_type": "error",
     "traceback": [
      "Error in read.csv2(\"../Sourcedata/nld_pc4_locations.csv\") %>% mutate(X = as.numeric(as.character(X))) %>% : could not find function \"%>%\"\nTraceback:\n"
     ]
    }
   ],
   "source": [
    "pc4_locations <- read.csv2(\"../Sourcedata/nld_pc4_locations.csv\")%>%\n",
    "  mutate(X = as.numeric(as.character(X))) %>%\n",
    "   mutate(Y = as.numeric(as.character(Y)))\n",
    "\n",
    "str(pc4_locations)"
   ]
  },
  {
   "cell_type": "markdown",
   "metadata": {},
   "source": [
    "We will now take a sample of 10 locations:"
   ]
  },
  {
   "cell_type": "code",
   "execution_count": 38,
   "metadata": {},
   "outputs": [
    {
     "ename": "ERROR",
     "evalue": "Error in pc4_locations %>% sample_n(10, replace = FALSE): could not find function \"%>%\"\n",
     "output_type": "error",
     "traceback": [
      "Error in pc4_locations %>% sample_n(10, replace = FALSE): could not find function \"%>%\"\nTraceback:\n"
     ]
    }
   ],
   "source": [
    "sample_locations <- pc4_locations %>%\n",
    "  sample_n(10, replace = FALSE)\n",
    "\n",
    "head(sample_locations)"
   ]
  },
  {
   "cell_type": "markdown",
   "metadata": {},
   "source": [
    "We can now add our sample locations to the map using `AddPointsLayer()`:"
   ]
  },
  {
   "cell_type": "code",
   "execution_count": 39,
   "metadata": {},
   "outputs": [
    {
     "ename": "ERROR",
     "evalue": "Error in AddMapLayer(MapPlot(), map_municipal) %>% AddPointsLayer(sample_locations): could not find function \"%>%\"\n",
     "output_type": "error",
     "traceback": [
      "Error in AddMapLayer(MapPlot(), map_municipal) %>% AddPointsLayer(sample_locations): could not find function \"%>%\"\nTraceback:\n"
     ]
    }
   ],
   "source": [
    "# display map with points\n",
    "AddMapLayer(MapPlot(), map_municipal) %>%\n",
    "  AddPointsLayer(sample_locations)"
   ]
  },
  {
   "cell_type": "markdown",
   "metadata": {},
   "source": [
    "We can add a _Type_ to the specific locations:"
   ]
  },
  {
   "cell_type": "code",
   "execution_count": 40,
   "metadata": {},
   "outputs": [
    {
     "ename": "ERROR",
     "evalue": "Error in sample_locations %>% mutate(Type = as.factor(sample(1:3, 10, : could not find function \"%>%\"\n",
     "output_type": "error",
     "traceback": [
      "Error in sample_locations %>% mutate(Type = as.factor(sample(1:3, 10, : could not find function \"%>%\"\nTraceback:\n"
     ]
    }
   ],
   "source": [
    "sample_color <- sample_locations %>%\n",
    "  mutate(Type = as.factor(sample(1:3, 10, replace = TRUE))) %>%\n",
    "  select(PC4, Type)"
   ]
  },
  {
   "cell_type": "markdown",
   "metadata": {},
   "source": [
    "And then add a color to the points based on their type:"
   ]
  },
  {
   "cell_type": "code",
   "execution_count": 41,
   "metadata": {},
   "outputs": [
    {
     "ename": "ERROR",
     "evalue": "Error in AddMapLayer(MapPlot(), map_municipal) %>% AddPointsLayer(sample_locations, : could not find function \"%>%\"\n",
     "output_type": "error",
     "traceback": [
      "Error in AddMapLayer(MapPlot(), map_municipal) %>% AddPointsLayer(sample_locations, : could not find function \"%>%\"\nTraceback:\n"
     ]
    }
   ],
   "source": [
    "AddMapLayer(MapPlot(), map_municipal) %>%\n",
    "  AddPointsLayer(sample_locations, sample_color, columnNameColor = \"Type\") "
   ]
  },
  {
   "cell_type": "markdown",
   "metadata": {},
   "source": [
    "Finally, we may want to add text to the map. Again, we will generate the data:"
   ]
  },
  {
   "cell_type": "code",
   "execution_count": 42,
   "metadata": {},
   "outputs": [
    {
     "ename": "ERROR",
     "evalue": "Error in sample_locations %>% mutate(Label = c(\"A\", \"B\", \"C\", \"D\", \"E\", : could not find function \"%>%\"\n",
     "output_type": "error",
     "traceback": [
      "Error in sample_locations %>% mutate(Label = c(\"A\", \"B\", \"C\", \"D\", \"E\", : could not find function \"%>%\"\nTraceback:\n"
     ]
    }
   ],
   "source": [
    "sample_text <- sample_locations%>%\n",
    "  mutate(Label = c(\"A\", \"B\", \"C\", \"D\", \"E\", \"F\", \"G\", \"H\", \"I\" ,\"J\")) %>%\n",
    "  select(PC4, Label)"
   ]
  },
  {
   "cell_type": "markdown",
   "metadata": {},
   "source": [
    "We can now add text to the map with the command `AddTextLayer()`\n"
   ]
  },
  {
   "cell_type": "code",
   "execution_count": 43,
   "metadata": {},
   "outputs": [
    {
     "ename": "ERROR",
     "evalue": "Error in AddMapLayer(MapPlot(), map_municipal) %>% AddTextLayer(sample_locations, : could not find function \"%>%\"\n",
     "output_type": "error",
     "traceback": [
      "Error in AddMapLayer(MapPlot(), map_municipal) %>% AddTextLayer(sample_locations, : could not find function \"%>%\"\nTraceback:\n"
     ]
    }
   ],
   "source": [
    "AddMapLayer(MapPlot(), map_municipal) %>%\n",
    "    AddTextLayer(sample_locations, sample_text)"
   ]
  },
  {
   "cell_type": "markdown",
   "metadata": {},
   "source": [
    "# Assignment\n",
    "\n",
    "Create a map with hospital data. We have prepared a file _hospital.csv_ that contains data on hospitals.\n",
    "\n",
    "## Assignment 1:\n",
    "\n",
    "Read the data in as \"hosp_data\" and inspect the first rows:\n"
   ]
  },
  {
   "cell_type": "code",
   "execution_count": 44,
   "metadata": {},
   "outputs": [
    {
     "data": {
      "text/html": [
       "<table>\n",
       "<thead><tr><th scope=col>PC4</th><th scope=col>Hospital_type</th><th scope=col>Name</th></tr></thead>\n",
       "<tbody>\n",
       "\t<tr><td>2692                                 </td><td>Buitenpolikliniek                    </td><td>HagaZiekenhuis Zorgplein Westland    </td></tr>\n",
       "\t<tr><td>2597                                 </td><td>Buitenpolikliniek                    </td><td>Bronovo Buitenpoli Hubertusduin      </td></tr>\n",
       "\t<tr><td>2241                                 </td><td>Buitenpolikliniek                    </td><td>Bronovo Buitenpoli Wassenaar         </td></tr>\n",
       "\t<tr><td>3191                                 </td><td>Buitenpolikliniek                    </td><td>Franciscus  Hoogvliet                </td></tr>\n",
       "\t<tr><td>6532                                 </td><td>Algemeen ziekenhuis                  </td><td>Canisius-Wilhelmina Ziekenhuis       </td></tr>\n",
       "\t<tr><td>6651                                 </td><td>Buitenpolikliniek                    </td><td>Canisius-Wilhelmina Ziekenhuis Druten</td></tr>\n",
       "</tbody>\n",
       "</table>\n"
      ],
      "text/latex": [
       "\\begin{tabular}{r|lll}\n",
       " PC4 & Hospital\\_type & Name\\\\\n",
       "\\hline\n",
       "\t 2692                                  & Buitenpolikliniek                     & HagaZiekenhuis Zorgplein Westland    \\\\\n",
       "\t 2597                                  & Buitenpolikliniek                     & Bronovo Buitenpoli Hubertusduin      \\\\\n",
       "\t 2241                                  & Buitenpolikliniek                     & Bronovo Buitenpoli Wassenaar         \\\\\n",
       "\t 3191                                  & Buitenpolikliniek                     & Franciscus  Hoogvliet                \\\\\n",
       "\t 6532                                  & Algemeen ziekenhuis                   & Canisius-Wilhelmina Ziekenhuis       \\\\\n",
       "\t 6651                                  & Buitenpolikliniek                     & Canisius-Wilhelmina Ziekenhuis Druten\\\\\n",
       "\\end{tabular}\n"
      ],
      "text/markdown": [
       "\n",
       "PC4 | Hospital_type | Name | \n",
       "|---|---|---|---|---|---|\n",
       "| 2692                                  | Buitenpolikliniek                     | HagaZiekenhuis Zorgplein Westland     | \n",
       "| 2597                                  | Buitenpolikliniek                     | Bronovo Buitenpoli Hubertusduin       | \n",
       "| 2241                                  | Buitenpolikliniek                     | Bronovo Buitenpoli Wassenaar          | \n",
       "| 3191                                  | Buitenpolikliniek                     | Franciscus  Hoogvliet                 | \n",
       "| 6532                                  | Algemeen ziekenhuis                   | Canisius-Wilhelmina Ziekenhuis        | \n",
       "| 6651                                  | Buitenpolikliniek                     | Canisius-Wilhelmina Ziekenhuis Druten | \n",
       "\n",
       "\n"
      ],
      "text/plain": [
       "  PC4  Hospital_type       Name                                 \n",
       "1 2692 Buitenpolikliniek   HagaZiekenhuis Zorgplein Westland    \n",
       "2 2597 Buitenpolikliniek   Bronovo Buitenpoli Hubertusduin      \n",
       "3 2241 Buitenpolikliniek   Bronovo Buitenpoli Wassenaar         \n",
       "4 3191 Buitenpolikliniek   Franciscus  Hoogvliet                \n",
       "5 6532 Algemeen ziekenhuis Canisius-Wilhelmina Ziekenhuis       \n",
       "6 6651 Buitenpolikliniek   Canisius-Wilhelmina Ziekenhuis Druten"
      ]
     },
     "metadata": {},
     "output_type": "display_data"
    }
   ],
   "source": [
    "hosp_data <- read.csv2(\"../Sourcedata/hospital.csv\")\n",
    "head(hosp_data)"
   ]
  },
  {
   "cell_type": "markdown",
   "metadata": {},
   "source": [
    "## Assignment 2:\n",
    "\n",
    "Merge the data (using `dplyr`) from _hosp_data_ and _pc4_locations_ in a new dataframe _hosp_loc_, so that only data in both data frames are retained. Check the structure of the data.\n"
   ]
  },
  {
   "cell_type": "code",
   "execution_count": 47,
   "metadata": {},
   "outputs": [
    {
     "name": "stdout",
     "output_type": "stream",
     "text": [
      "'data.frame':\t264 obs. of  5 variables:\n",
      " $ PC4          : int  1012 1034 1061 1066 1066 1081 1087 1091 1105 1105 ...\n",
      " $ Hospital_type: Factor w/ 4 levels \"Academisch ziekenhuis\",..: 3 2 2 2 2 1 3 2 4 1 ...\n",
      " $ Name         : Factor w/ 265 levels \"Academisch Medisch Centrum\",..: 157 26 156 22 127 220 154 155 57 1 ...\n",
      " $ X            : Factor w/ 4066 levels \"100024.115074611\",..: 513 539 415 371 371 424 655 535 597 597 ...\n",
      " $ Y            : Factor w/ 4066 levels \"308396.770615801\",..: 2509 2578 2506 2406 2406 2373 2421 2449 2289 2289 ...\n"
     ]
    }
   ],
   "source": [
    "pc4_loc <- read.csv2(\"../Sourcedata/nld_pc4_locations.csv\")\n",
    "hosp_loc <- merge( hosp_data, pc4_loc )\n",
    "str(hosp_loc)"
   ]
  },
  {
   "cell_type": "markdown",
   "metadata": {},
   "source": [
    "\n",
    "## Assignment 3:\n",
    "\n",
    "Create a map with the hospital locations as points and color the points according to the _type_ of hospital.\n",
    "\n"
   ]
  },
  {
   "cell_type": "code",
   "execution_count": null,
   "metadata": {},
   "outputs": [],
   "source": []
  },
  {
   "cell_type": "markdown",
   "metadata": {},
   "source": [
    "End Notebook"
   ]
  },
  {
   "cell_type": "code",
   "execution_count": null,
   "metadata": {},
   "outputs": [],
   "source": []
  }
 ],
 "metadata": {
  "anaconda-cloud": {},
  "kernelspec": {
   "display_name": "R",
   "language": "R",
   "name": "ir"
  },
  "language_info": {
   "codemirror_mode": "r",
   "file_extension": ".r",
   "mimetype": "text/x-r-source",
   "name": "R",
   "pygments_lexer": "r",
   "version": "3.4.3"
  }
 },
 "nbformat": 4,
 "nbformat_minor": 1
}
