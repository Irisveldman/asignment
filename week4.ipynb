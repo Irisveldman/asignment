{
 "cells": [
  {
   "cell_type": "markdown",
   "metadata": {},
   "source": [
    "Before you turn this problem in, make sure everything runs as expected. First, **restart the kernel** (in the menubar, select Kernel$\\rightarrow$Restart) and then **run all cells** (in the menubar, select Cell$\\rightarrow$Run All).\n",
    "\n",
    "Make sure you fill in any place that says `YOUR CODE HERE` or \"YOUR ANSWER HERE\", as well as your name and collaborators below:"
   ]
  },
  {
   "cell_type": "code",
   "execution_count": 37,
   "metadata": {},
   "outputs": [],
   "source": [
    "NAME = \"Iris Veldman #2011590#\"\n",
    "COLLABORATORS = \"\""
   ]
  },
  {
   "cell_type": "markdown",
   "metadata": {},
   "source": [
    "---"
   ]
  },
  {
   "cell_type": "markdown",
   "metadata": {},
   "source": [
    "# Predicting the number of your customers\n",
    "\n",
    "## Introduction\n",
    "\n",
    "Suppose you have a shop. Every month you count the total number of your customers who bought from your shop. To simplify, we think of people buying one unit from your shop or nothing. \n",
    "\n",
    "\n",
    "Your customers are of two types:\n",
    "* some are \"returning\" customers (i.e. they also bought last month) and \n",
    "* the others are new (did not buy last month)\n",
    "\n",
    "So we will not worry about customers who, say, bought two months ago but not last month.\n",
    "\n",
    "In this notebook, we first generate the data ourselves (so that you fully understand the structure of the data) and then we analyze this data.\n",
    "\n",
    "## Importing libraries\n",
    "\n",
    "We first import the libraries that we need."
   ]
  },
  {
   "cell_type": "code",
   "execution_count": 38,
   "metadata": {},
   "outputs": [],
   "source": [
    "import datetime\n",
    "import matplotlib.pyplot as plt\n",
    "import pandas as pd\n",
    "import numpy as np\n",
    "%matplotlib inline"
   ]
  },
  {
   "cell_type": "markdown",
   "metadata": {},
   "source": [
    "## Model\n",
    "\n",
    "We will generate the data with the following model.\n",
    "\n",
    "Let $x_t$ denote the logarithm of the number of customers in period $t$. We assume that $x_t$ evolves over time as follows:\n",
    "\n",
    "$$\n",
    "x_t = \\rho x_{t-1} + u_t\n",
    "$$\n",
    "\n",
    "where $u_t$ is normally distributed with mean $\\mu_u \\geq 0$ and standard deviation $\\sigma_u \\geq 0$ and $\\rho \\in [0,1]$. Hence, there is a fraction $\\rho$ of previous period customers that return to buy this period and there is an inflow $u_t$ of new customers in period $t$.\n",
    "\n",
    "\n",
    "-------------\n",
    "\n",
    "**Exercise**\n",
    "\n",
    "What is an advantage of defining $x_t$ as the logarithm of the number of customers? [hint: what would you need to \"worry\" about if $x_t$ denotes the number of customers?]\n",
    "\n",
    "--------------"
   ]
  },
  {
   "cell_type": "markdown",
   "metadata": {
    "deletable": false,
    "nbgrader": {
     "checksum": "b14b6833ca941a2a77fadb3500857447",
     "grade": true,
     "grade_id": "cell-ced668bb411a762f",
     "locked": false,
     "points": 0,
     "schema_version": 1,
     "solution": true
    }
   },
   "source": []
  },
  {
   "cell_type": "markdown",
   "metadata": {},
   "source": [
    "We assume that both $\\mu$ and $\\rho$ are a function of the price that is charged. If you charge a high price, fewer customers will return and also the inflow of new customers will be lower.\n",
    "\n",
    "We generate data for 24 months. The code below starts from today and generates dates with a Monthly frequency back into the past years. We define how $\\rho$ and $\\mu$ depend on the price $p$ that the shop charges in a period.\n",
    "\n",
    "Finally, we create a pandas dataframe `df_customers` with this data. "
   ]
  },
  {
   "cell_type": "code",
   "execution_count": 39,
   "metadata": {},
   "outputs": [],
   "source": [
    "number_of_periods = 24\n",
    "todays_date = datetime.datetime.now().date()\n",
    "index = pd.date_range(end = todays_date, periods=number_of_periods, freq='M')\n",
    "columns = ['log number of customers']\n",
    "\n",
    "def mu(m,p):\n",
    "    return m*(1-p)\n",
    "\n",
    "def rho(r,p):\n",
    "    return r*(1-p)\n",
    "\n",
    "sigma = 1.0\n",
    "\n",
    "p_0 = [0.2]\n",
    "p_1 = [0.6]\n",
    "period_0 = 12\n",
    "period_1 = number_of_periods+1-period_0\n",
    "vector_p = period_0*p_0 + period_1*p_1\n",
    "\n",
    "x_0 = 10\n",
    "x = []\n",
    "x.append(x_0)\n",
    "for t in range(1,number_of_periods+1):\n",
    "    u = np.random.normal(mu(2,vector_p[t]), sigma)\n",
    "    x.append(rho(0.5,vector_p[t])*x[t-1]+u)\n",
    "    \n",
    "df_customers = pd.DataFrame(x[1:], index=index, columns=columns)"
   ]
  },
  {
   "cell_type": "markdown",
   "metadata": {},
   "source": [
    "---------\n",
    "\n",
    "**Exercise**\n",
    "\n",
    "Explain what the code above does:\n",
    "\n",
    "* what is `vector_p` and how is it generated?\n",
    "* what is the type of `x`? How is this vector generated?\n",
    "* show what the first couple of rows of the `df_customers` look like."
   ]
  },
  {
   "cell_type": "markdown",
   "metadata": {
    "deletable": false,
    "nbgrader": {
     "checksum": "8cb82615a1c2f95cc7b92f1e8ee81b2a",
     "grade": true,
     "grade_id": "cell-a388b5a1c992c338",
     "locked": false,
     "points": 0,
     "schema_version": 1,
     "solution": true
    }
   },
   "source": [
    "vector_p is a list of 25 prices, where the first 12 prices are 0.2 and the other 13 are 0.6.  It is generated by putting the first list with the price of 0.2 and the list with the price of 0.6 together\n",
    "x is a list that contains 24 periods. It ads the new number of customers to the existing list of customers"
   ]
  },
  {
   "cell_type": "code",
   "execution_count": 40,
   "metadata": {
    "deletable": false,
    "nbgrader": {
     "checksum": "7ba4d1696bdbfce218cd5323e35ca792",
     "grade": false,
     "grade_id": "cell-dc2b3e78322f18bd",
     "locked": false,
     "schema_version": 1,
     "solution": true
    }
   },
   "outputs": [
    {
     "data": {
      "text/html": [
       "<div>\n",
       "<style scoped>\n",
       "    .dataframe tbody tr th:only-of-type {\n",
       "        vertical-align: middle;\n",
       "    }\n",
       "\n",
       "    .dataframe tbody tr th {\n",
       "        vertical-align: top;\n",
       "    }\n",
       "\n",
       "    .dataframe thead th {\n",
       "        text-align: right;\n",
       "    }\n",
       "</style>\n",
       "<table border=\"1\" class=\"dataframe\">\n",
       "  <thead>\n",
       "    <tr style=\"text-align: right;\">\n",
       "      <th></th>\n",
       "      <th>log number of customers</th>\n",
       "    </tr>\n",
       "  </thead>\n",
       "  <tbody>\n",
       "    <tr>\n",
       "      <th>2016-04-30</th>\n",
       "      <td>5.601455</td>\n",
       "    </tr>\n",
       "    <tr>\n",
       "      <th>2016-05-31</th>\n",
       "      <td>4.973798</td>\n",
       "    </tr>\n",
       "    <tr>\n",
       "      <th>2016-06-30</th>\n",
       "      <td>4.511630</td>\n",
       "    </tr>\n",
       "    <tr>\n",
       "      <th>2016-07-31</th>\n",
       "      <td>2.840784</td>\n",
       "    </tr>\n",
       "    <tr>\n",
       "      <th>2016-08-31</th>\n",
       "      <td>3.799295</td>\n",
       "    </tr>\n",
       "  </tbody>\n",
       "</table>\n",
       "</div>"
      ],
      "text/plain": [
       "            log number of customers\n",
       "2016-04-30                 5.601455\n",
       "2016-05-31                 4.973798\n",
       "2016-06-30                 4.511630\n",
       "2016-07-31                 2.840784\n",
       "2016-08-31                 3.799295"
      ]
     },
     "execution_count": 40,
     "metadata": {},
     "output_type": "execute_result"
    }
   ],
   "source": [
    "df_customers.head()"
   ]
  },
  {
   "cell_type": "markdown",
   "metadata": {},
   "source": [
    "-----------\n",
    "\n",
    "**Exercise**\n",
    "\n",
    "Calculate the number of customers in each of the periods. [hint: you may want to check numpy's `exp` function]\n",
    "\n",
    "-----------"
   ]
  },
  {
   "cell_type": "code",
   "execution_count": 41,
   "metadata": {
    "deletable": false,
    "nbgrader": {
     "checksum": "48436a28b2282fd1a04886226c768d19",
     "grade": false,
     "grade_id": "cell-af1fc254099c0651",
     "locked": false,
     "schema_version": 1,
     "solution": true
    }
   },
   "outputs": [],
   "source": [
    "df_customers['number of customers'] = np.exp(df_customers['log number of customers'])"
   ]
  },
  {
   "cell_type": "code",
   "execution_count": 42,
   "metadata": {},
   "outputs": [
    {
     "data": {
      "text/html": [
       "<div>\n",
       "<style scoped>\n",
       "    .dataframe tbody tr th:only-of-type {\n",
       "        vertical-align: middle;\n",
       "    }\n",
       "\n",
       "    .dataframe tbody tr th {\n",
       "        vertical-align: top;\n",
       "    }\n",
       "\n",
       "    .dataframe thead th {\n",
       "        text-align: right;\n",
       "    }\n",
       "</style>\n",
       "<table border=\"1\" class=\"dataframe\">\n",
       "  <thead>\n",
       "    <tr style=\"text-align: right;\">\n",
       "      <th></th>\n",
       "      <th>log number of customers</th>\n",
       "      <th>number of customers</th>\n",
       "    </tr>\n",
       "  </thead>\n",
       "  <tbody>\n",
       "    <tr>\n",
       "      <th>2016-04-30</th>\n",
       "      <td>5.601455</td>\n",
       "      <td>270.820110</td>\n",
       "    </tr>\n",
       "    <tr>\n",
       "      <th>2016-05-31</th>\n",
       "      <td>4.973798</td>\n",
       "      <td>144.574883</td>\n",
       "    </tr>\n",
       "    <tr>\n",
       "      <th>2016-06-30</th>\n",
       "      <td>4.511630</td>\n",
       "      <td>91.070181</td>\n",
       "    </tr>\n",
       "    <tr>\n",
       "      <th>2016-07-31</th>\n",
       "      <td>2.840784</td>\n",
       "      <td>17.129193</td>\n",
       "    </tr>\n",
       "    <tr>\n",
       "      <th>2016-08-31</th>\n",
       "      <td>3.799295</td>\n",
       "      <td>44.669687</td>\n",
       "    </tr>\n",
       "  </tbody>\n",
       "</table>\n",
       "</div>"
      ],
      "text/plain": [
       "            log number of customers  number of customers\n",
       "2016-04-30                 5.601455           270.820110\n",
       "2016-05-31                 4.973798           144.574883\n",
       "2016-06-30                 4.511630            91.070181\n",
       "2016-07-31                 2.840784            17.129193\n",
       "2016-08-31                 3.799295            44.669687"
      ]
     },
     "execution_count": 42,
     "metadata": {},
     "output_type": "execute_result"
    }
   ],
   "source": [
    "df_customers.head(5)"
   ]
  },
  {
   "cell_type": "code",
   "execution_count": 43,
   "metadata": {},
   "outputs": [
    {
     "data": {
      "text/plain": [
       "270.82010969669074"
      ]
     },
     "execution_count": 43,
     "metadata": {},
     "output_type": "execute_result"
    }
   ],
   "source": [
    "#how to get the first row\n",
    "df_customers.head(1)\n",
    "df_customers.iloc[0]\n",
    "df_customers.loc['2016-05-31']\n",
    "#how to get the first column\n",
    "df_customers.iloc[:,0]\n",
    "#how to get the first row and 2 column\n",
    "df_customers.iloc[0,1]"
   ]
  },
  {
   "cell_type": "markdown",
   "metadata": {},
   "source": [
    "-----------\n",
    "\n",
    "**Exercise**\n",
    "\n",
    "Calculate the average number of customers over the period of 24 months. [hint: check the datacamp course on pandas or google \"python pandas average\" to see how to calculate an average in a dataframe]\n",
    "\n",
    "-----------"
   ]
  },
  {
   "cell_type": "code",
   "execution_count": 44,
   "metadata": {
    "deletable": false,
    "nbgrader": {
     "checksum": "4c318efc6536ae6ba1ed4e4804e5a9fa",
     "grade": false,
     "grade_id": "cell-c38250295485b1e5",
     "locked": false,
     "schema_version": 1,
     "solution": true
    }
   },
   "outputs": [
    {
     "data": {
      "text/plain": [
       "log number of customers     2.380137\n",
       "number of customers        42.069322\n",
       "dtype: float64"
      ]
     },
     "execution_count": 44,
     "metadata": {},
     "output_type": "execute_result"
    }
   ],
   "source": [
    "df_customers.mean()"
   ]
  },
  {
   "cell_type": "markdown",
   "metadata": {},
   "source": [
    "On the basis of the mean, you might conclude that you should expect around 30 customers on average (this can be different in your notebook as we are using random numbers here).\n",
    "\n",
    "-----------\n",
    "\n",
    "**Exercise**\n",
    "\n",
    "To get an idea on whether this is realistic, also calculate the median number of customers. What do you learn from this?\n",
    "\n",
    "--------------"
   ]
  },
  {
   "cell_type": "code",
   "execution_count": 45,
   "metadata": {
    "deletable": false,
    "nbgrader": {
     "checksum": "73def957cc87804d9dedefbfd915ac11",
     "grade": false,
     "grade_id": "cell-2fd0754f1d9bebf4",
     "locked": false,
     "schema_version": 1,
     "solution": true
    }
   },
   "outputs": [
    {
     "data": {
      "text/plain": [
       "log number of customers     2.694910\n",
       "number of customers        14.807752\n",
       "dtype: float64"
      ]
     },
     "execution_count": 45,
     "metadata": {},
     "output_type": "execute_result"
    }
   ],
   "source": [
    "df_customers.median()"
   ]
  },
  {
   "cell_type": "markdown",
   "metadata": {
    "deletable": false,
    "nbgrader": {
     "checksum": "5a46593b51ee22ba4f9b86c6a4da72b7",
     "grade": true,
     "grade_id": "cell-58ed63fcfd3670e4",
     "locked": false,
     "points": 0,
     "schema_version": 1,
     "solution": true
    }
   },
   "source": [
    "the mean of the log number of customers is more than 3 times as big as the median of the log number of customers\n",
    "the mean of the number of customers is 1.841425e+133 biggr than the median of the number of customers\n",
    "\n",
    "few months with a lot of customers, but not a lot, because the median is low"
   ]
  },
  {
   "cell_type": "markdown",
   "metadata": {},
   "source": [
    "To get some idea on how the number of customers varies over time, we will plot the number of customers together with two moving averages: one moving average over 3 months, the other over 6 months."
   ]
  },
  {
   "cell_type": "code",
   "execution_count": 46,
   "metadata": {},
   "outputs": [],
   "source": [
    "df_customers['MA_3'] = df_customers['number of customers'].rolling(window=3).mean()\n",
    "df_customers['MA_6'] = df_customers['number of customers'].rolling(window=6).mean()"
   ]
  },
  {
   "cell_type": "markdown",
   "metadata": {},
   "source": [
    "------------\n",
    "\n",
    "**Exercise**\n",
    "\n",
    "Plot the number of customers and the moving averages defined above.\n",
    "\n",
    "-------------"
   ]
  },
  {
   "cell_type": "code",
   "execution_count": 47,
   "metadata": {
    "deletable": false,
    "nbgrader": {
     "checksum": "6ec4496e010bb1e1ef365081eb8e6133",
     "grade": false,
     "grade_id": "cell-523159b30875c8a2",
     "locked": false,
     "schema_version": 1,
     "solution": true
    }
   },
   "outputs": [
    {
     "data": {
      "image/png": "[encoded data removed]",
      "text/plain": [
       "<matplotlib.figure.Figure at 0x2169cd57240>"
      ]
     },
     "metadata": {},
     "output_type": "display_data"
    }
   ],
   "source": [
    "df_customers['number of customers'].plot()\n",
    "df_customers['MA_3'].plot()\n",
    "df_customers['MA_6'].plot()\n",
    "\n",
    "plt.legend()\n",
    "plt.show()"
   ]
  },
  {
   "cell_type": "markdown",
   "metadata": {},
   "source": [
    "Consider the first couple of rows of the dataframe `df_customers`.\n",
    "\n",
    "----------\n",
    "\n",
    "**Exercise**\n",
    "\n",
    "Why does \"NaN\" mean and why do they appear? Hint: use google if you do not know what \"NaN\" stands for.\n",
    "\n",
    "-----------"
   ]
  },
  {
   "cell_type": "code",
   "execution_count": 48,
   "metadata": {
    "deletable": false,
    "nbgrader": {
     "checksum": "0791a69a801f77c9faa30648d37a76e0",
     "grade": false,
     "grade_id": "cell-17ee63c79a495cc6",
     "locked": false,
     "schema_version": 1,
     "solution": true
    }
   },
   "outputs": [
    {
     "data": {
      "text/html": [
       "<div>\n",
       "<style scoped>\n",
       "    .dataframe tbody tr th:only-of-type {\n",
       "        vertical-align: middle;\n",
       "    }\n",
       "\n",
       "    .dataframe tbody tr th {\n",
       "        vertical-align: top;\n",
       "    }\n",
       "\n",
       "    .dataframe thead th {\n",
       "        text-align: right;\n",
       "    }\n",
       "</style>\n",
       "<table border=\"1\" class=\"dataframe\">\n",
       "  <thead>\n",
       "    <tr style=\"text-align: right;\">\n",
       "      <th></th>\n",
       "      <th>log number of customers</th>\n",
       "      <th>number of customers</th>\n",
       "      <th>MA_3</th>\n",
       "      <th>MA_6</th>\n",
       "    </tr>\n",
       "  </thead>\n",
       "  <tbody>\n",
       "    <tr>\n",
       "      <th>2016-04-30</th>\n",
       "      <td>5.601455</td>\n",
       "      <td>270.820110</td>\n",
       "      <td>NaN</td>\n",
       "      <td>NaN</td>\n",
       "    </tr>\n",
       "    <tr>\n",
       "      <th>2016-05-31</th>\n",
       "      <td>4.973798</td>\n",
       "      <td>144.574883</td>\n",
       "      <td>NaN</td>\n",
       "      <td>NaN</td>\n",
       "    </tr>\n",
       "    <tr>\n",
       "      <th>2016-06-30</th>\n",
       "      <td>4.511630</td>\n",
       "      <td>91.070181</td>\n",
       "      <td>168.821724</td>\n",
       "      <td>NaN</td>\n",
       "    </tr>\n",
       "    <tr>\n",
       "      <th>2016-07-31</th>\n",
       "      <td>2.840784</td>\n",
       "      <td>17.129193</td>\n",
       "      <td>84.258085</td>\n",
       "      <td>NaN</td>\n",
       "    </tr>\n",
       "    <tr>\n",
       "      <th>2016-08-31</th>\n",
       "      <td>3.799295</td>\n",
       "      <td>44.669687</td>\n",
       "      <td>50.956353</td>\n",
       "      <td>NaN</td>\n",
       "    </tr>\n",
       "    <tr>\n",
       "      <th>2016-09-30</th>\n",
       "      <td>3.829193</td>\n",
       "      <td>46.025374</td>\n",
       "      <td>35.941418</td>\n",
       "      <td>102.381571</td>\n",
       "    </tr>\n",
       "    <tr>\n",
       "      <th>2016-10-31</th>\n",
       "      <td>3.835484</td>\n",
       "      <td>46.315862</td>\n",
       "      <td>45.670308</td>\n",
       "      <td>64.964197</td>\n",
       "    </tr>\n",
       "    <tr>\n",
       "      <th>2016-11-30</th>\n",
       "      <td>5.147401</td>\n",
       "      <td>171.983930</td>\n",
       "      <td>88.108389</td>\n",
       "      <td>69.532371</td>\n",
       "    </tr>\n",
       "    <tr>\n",
       "      <th>2016-12-31</th>\n",
       "      <td>3.243655</td>\n",
       "      <td>25.627224</td>\n",
       "      <td>81.309005</td>\n",
       "      <td>58.625212</td>\n",
       "    </tr>\n",
       "    <tr>\n",
       "      <th>2017-01-31</th>\n",
       "      <td>3.936429</td>\n",
       "      <td>51.235289</td>\n",
       "      <td>82.948815</td>\n",
       "      <td>64.309561</td>\n",
       "    </tr>\n",
       "  </tbody>\n",
       "</table>\n",
       "</div>"
      ],
      "text/plain": [
       "            log number of customers  number of customers        MA_3  \\\n",
       "2016-04-30                 5.601455           270.820110         NaN   \n",
       "2016-05-31                 4.973798           144.574883         NaN   \n",
       "2016-06-30                 4.511630            91.070181  168.821724   \n",
       "2016-07-31                 2.840784            17.129193   84.258085   \n",
       "2016-08-31                 3.799295            44.669687   50.956353   \n",
       "2016-09-30                 3.829193            46.025374   35.941418   \n",
       "2016-10-31                 3.835484            46.315862   45.670308   \n",
       "2016-11-30                 5.147401           171.983930   88.108389   \n",
       "2016-12-31                 3.243655            25.627224   81.309005   \n",
       "2017-01-31                 3.936429            51.235289   82.948815   \n",
       "\n",
       "                  MA_6  \n",
       "2016-04-30         NaN  \n",
       "2016-05-31         NaN  \n",
       "2016-06-30         NaN  \n",
       "2016-07-31         NaN  \n",
       "2016-08-31         NaN  \n",
       "2016-09-30  102.381571  \n",
       "2016-10-31   64.964197  \n",
       "2016-11-30   69.532371  \n",
       "2016-12-31   58.625212  \n",
       "2017-01-31   64.309561  "
      ]
     },
     "execution_count": 48,
     "metadata": {},
     "output_type": "execute_result"
    }
   ],
   "source": [
    "df_customers.head(10)"
   ]
  },
  {
   "cell_type": "markdown",
   "metadata": {
    "deletable": false,
    "nbgrader": {
     "checksum": "746eed0551f565a588d72c6b80bf6cf2",
     "grade": true,
     "grade_id": "cell-3f494180ff999367",
     "locked": false,
     "points": 0,
     "schema_version": 1,
     "solution": true
    }
   },
   "source": []
  },
  {
   "cell_type": "markdown",
   "metadata": {},
   "source": [
    "--------------\n",
    "\n",
    "**Exercise**\n",
    "\n",
    "Add a column to `df_customers` with the price per period.\n",
    "\n",
    "------------"
   ]
  },
  {
   "cell_type": "code",
   "execution_count": 49,
   "metadata": {
    "deletable": false,
    "nbgrader": {
     "checksum": "9f168016ede597e32d69a1f805cfd29c",
     "grade": false,
     "grade_id": "cell-ff7618acb286f561",
     "locked": false,
     "schema_version": 1,
     "solution": true
    }
   },
   "outputs": [
    {
     "name": "stdout",
     "output_type": "stream",
     "text": [
      "24\n",
      "25\n"
     ]
    }
   ],
   "source": [
    "print(len(df_customers['number of customers']))\n",
    "print(len(vector_p))"
   ]
  },
  {
   "cell_type": "code",
   "execution_count": 52,
   "metadata": {},
   "outputs": [],
   "source": [
    "df_customers['price']= vector_p[1:]"
   ]
  },
  {
   "cell_type": "markdown",
   "metadata": {},
   "source": [
    "Assume that your costs per sale equal 0.1.\n",
    "\n",
    "-----------\n",
    "\n",
    "**Exercise**\n",
    "\n",
    "Add a column `profits` to the dataframe.\n",
    "\n",
    "-----------\n"
   ]
  },
  {
   "cell_type": "code",
   "execution_count": 53,
   "metadata": {
    "deletable": false,
    "nbgrader": {
     "checksum": "10ef2d70d1c7276edd584e80235a9ac9",
     "grade": false,
     "grade_id": "cell-a7a24b8981a8cfa6",
     "locked": false,
     "schema_version": 1,
     "solution": true
    }
   },
   "outputs": [],
   "source": [
    "df_customers['profits'] = (df_customers['price']-0.1)*df_customers['number of customers']"
   ]
  },
  {
   "cell_type": "code",
   "execution_count": 54,
   "metadata": {},
   "outputs": [
    {
     "data": {
      "text/plain": [
       "2016-04-30    27.082011\n",
       "2016-05-31    14.457488\n",
       "2016-06-30     9.107018\n",
       "2016-07-31     1.712919\n",
       "2016-08-31     4.466969\n",
       "Freq: M, Name: profits, dtype: float64"
      ]
     },
     "execution_count": 54,
     "metadata": {},
     "output_type": "execute_result"
    }
   ],
   "source": [
    "df_customers['profits'].head()"
   ]
  },
  {
   "cell_type": "markdown",
   "metadata": {},
   "source": [
    "------------\n",
    "\n",
    "**Exercise**\n",
    "\n",
    "Plot the number of customers against profit. Explain the shape of curve that you see.\n",
    "\n",
    "------------"
   ]
  },
  {
   "cell_type": "code",
   "execution_count": 55,
   "metadata": {
    "deletable": false,
    "nbgrader": {
     "checksum": "0f92baacecae66f1d13ff3dc2a90be46",
     "grade": false,
     "grade_id": "cell-6d673ecd80bbe5dd",
     "locked": false,
     "schema_version": 1,
     "solution": true
    }
   },
   "outputs": [
    {
     "data": {
      "image/png": "[encoded data removed]",
      "text/plain": [
       "<matplotlib.figure.Figure at 0x2169cd576d8>"
      ]
     },
     "metadata": {},
     "output_type": "display_data"
    }
   ],
   "source": [
    "plt.scatter(df_customers['number of customers'], df_customers['profits'])\n",
    "plt.xlabel('number of customers')\n",
    "plt.show()"
   ]
  },
  {
   "cell_type": "markdown",
   "metadata": {
    "deletable": false,
    "nbgrader": {
     "checksum": "0a3481c6ef04d3d61f898981b13b5fab",
     "grade": true,
     "grade_id": "cell-0b335802f8a0b3d2",
     "locked": false,
     "points": 0,
     "schema_version": 1,
     "solution": true
    }
   },
   "source": []
  }
 ],
 "metadata": {
  "kernelspec": {
   "display_name": "Python 3",
   "language": "python",
   "name": "python3"
  },
  "language_info": {
   "codemirror_mode": {
    "name": "ipython",
    "version": 3
   },
   "file_extension": ".py",
   "mimetype": "text/x-python",
   "name": "python",
   "nbconvert_exporter": "python",
   "pygments_lexer": "ipython3",
   "version": "3.6.4"
  }
 },
 "nbformat": 4,
 "nbformat_minor": 2
}
