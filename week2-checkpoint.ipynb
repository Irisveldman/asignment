{
 "cells": [
  {
   "cell_type": "markdown",
   "metadata": {},
   "source": [
    "Before you turn this problem in, make sure everything runs as expected. First, **restart the kernel** (in the menubar, select Kernel$\\rightarrow$Restart) and then **run all cells** (in the menubar, select Cell$\\rightarrow$Run All).\n",
    "\n",
    "Make sure you fill in any place that says `YOUR CODE HERE` or \"YOUR ANSWER HERE\", as well as your name and collaborators below:"
   ]
  },
  {
   "cell_type": "code",
   "execution_count": 1,
   "metadata": {},
   "outputs": [],
   "source": [
    "NAME = \"Iris Veldman #2011590\"\n",
    "COLLABORATORS = \"\""
   ]
  },
  {
   "cell_type": "markdown",
   "metadata": {},
   "source": [
    "---"
   ]
  },
  {
   "cell_type": "markdown",
   "metadata": {
    "slideshow": {
     "slide_type": "slide"
    }
   },
   "source": [
    "# Introduction to python\n",
    "\n",
    "You learn the details of python programming from [datacamp](https://campus.datacamp.com/courses/intro-to-python-for-data-science/chapter-1-python-basics?ex=1). \n",
    "\n",
    "Here we use python in the jupyter notebook. You also use the notebook for your assignments that you upload on github. \n",
    "\n",
    "In the notebook, you evaluate (or \"run\") the python code by pressing the `SHIFT` and `ENTER` keys simultaneously.\n",
    "\n",
    "Play around with the Jupyter interface to get to know your way around. E.g. in the menu under \"Help\", you can click on \"Keyboard Shortcuts\". These may be useful to know. E.g. when you are in a \"cell\" and press `ESC` and then `m`, you change the cell from \"code\" to \"markdown\". Press `RETURN` (or `ENTER`) and you can type markdown in this cell.\n",
    "\n",
    "\n",
    "## Why do we learn python?\n",
    "\n",
    "You may have used Excel before and think that this is all you need to know to compute stuff. However, as the next tweet illustrates, Excel is not so great."
   ]
  },
  {
   "cell_type": "code",
   "execution_count": 2,
   "metadata": {
    "slideshow": {
     "slide_type": "slide"
    }
   },
   "outputs": [
    {
     "data": {
      "text/html": [
       "\n",
       "<blockquote class=\"twitter-tweet\" data-lang=\"en\"><p lang=\"en\" dir=\"ltr\">Relying on Excel for important calculations is like driving drunk: no matter how carefully you do it, a wreck is likely. <a href=\"https://twitter.com/hashtag/reproducibility?src=hash\">#reproducibility</a></p>&mdash; Philip Stark (@philipbstark) <a href=\"https://twitter.com/philipbstark/status/498683914592862208\">August 11, 2014</a></blockquote>\n",
       "<script async src=\"//platform.twitter.com/widgets.js\" charset=\"utf-8\"></script>"
      ],
      "text/plain": [
       "<IPython.core.display.HTML object>"
      ]
     },
     "metadata": {},
     "output_type": "display_data"
    }
   ],
   "source": [
    "%%html\n",
    "\n",
    "<blockquote class=\"twitter-tweet\" data-lang=\"en\"><p lang=\"en\" dir=\"ltr\">Relying on Excel for important calculations is like driving drunk: no matter how carefully you do it, a wreck is likely. <a href=\"https://twitter.com/hashtag/reproducibility?src=hash\">#reproducibility</a></p>&mdash; Philip Stark (@philipbstark) <a href=\"https://twitter.com/philipbstark/status/498683914592862208\">August 11, 2014</a></blockquote>\n",
    "<script async src=\"//platform.twitter.com/widgets.js\" charset=\"utf-8\"></script>"
   ]
  },
  {
   "cell_type": "markdown",
   "metadata": {
    "slideshow": {
     "slide_type": "subslide"
    }
   },
   "source": [
    "Hence, there is value in learning a proper programming language. And python is a great language to learn!"
   ]
  },
  {
   "cell_type": "markdown",
   "metadata": {
    "slideshow": {
     "slide_type": "slide"
    }
   },
   "source": [
    "## Bargaining model\n",
    "\n",
    "In this lecture, we focus on an economic application programmed in python. We look at a bargaining model where two players can divide a \"pie\" of size $\\bar x >0$. One player makes an offer $x \\in [0,\\bar x]$ and the other player can either accept or reject. If the other player accepts the offer, she gets $x$ and the player making the offer gets the rest of the pie $\\bar x -x$.\n",
    "\n",
    "We first consider this bargaining problem in a one shot game. One player, let's denote this player 1, makes an offer to player 2. Then we consider this game with several periods, where players 1 and 2 make offers alternatingly. \n",
    "\n"
   ]
  },
  {
   "cell_type": "markdown",
   "metadata": {
    "slideshow": {
     "slide_type": "slide"
    }
   },
   "source": [
    "## One period model\n",
    "\n",
    "Recall that $\\bar x$ denotes the size of the pie that players 1 and 2 can distribute. Here we work with $\\bar x =10$. The offers that players can make are integer numbers between 0 and 10. Thus $x \\in \\{0,1,2,...,9,10\\}$.\n",
    "\n",
    "In this notebook we use the numpy library that we import:"
   ]
  },
  {
   "cell_type": "code",
   "execution_count": 3,
   "metadata": {
    "slideshow": {
     "slide_type": "fragment"
    }
   },
   "outputs": [],
   "source": [
    "import numpy as np"
   ]
  },
  {
   "cell_type": "markdown",
   "metadata": {
    "slideshow": {
     "slide_type": "fragment"
    }
   },
   "source": [
    "We define the smallest offer someone can make (0) and the highest offer ($\\bar x =10$). Then we create a list (actually a numpy array) with integer numbers between 0 and 10. To understand the syntax, google on \"numpy arange\". "
   ]
  },
  {
   "cell_type": "code",
   "execution_count": 4,
   "metadata": {
    "slideshow": {
     "slide_type": "fragment"
    }
   },
   "outputs": [],
   "source": [
    "min_offer = 0.0\n",
    "max_offer = 10.0\n",
    "offers = np.arange(min_offer,max_offer+1,1)"
   ]
  },
  {
   "cell_type": "markdown",
   "metadata": {
    "slideshow": {
     "slide_type": "slide"
    }
   },
   "source": [
    "---------\n",
    "\n",
    "**Exercise**\n",
    "\n",
    "Check what the variable `offers` looks like.\n",
    "\n",
    "-------------"
   ]
  },
  {
   "cell_type": "code",
   "execution_count": 23,
   "metadata": {
    "deletable": false,
    "nbgrader": {
     "checksum": "c694d3c0513a971eb3efee5f00a0c420",
     "grade": false,
     "grade_id": "cell-50d17507cb02e7c0",
     "locked": false,
     "schema_version": 1,
     "solution": true
    },
    "slideshow": {
     "slide_type": "fragment"
    }
   },
   "outputs": [
    {
     "data": {
      "text/plain": [
       "'offers'"
      ]
     },
     "execution_count": 23,
     "metadata": {},
     "output_type": "execute_result"
    }
   ],
   "source": [
    "'offers'"
   ]
  },
  {
   "cell_type": "markdown",
   "metadata": {
    "slideshow": {
     "slide_type": "slide"
    }
   },
   "source": [
    "We assume that players can either accept or reject an offer $x$. If a player accepts $x$, she receives a payoff equal to $x$. If she rejects $x$, she receives her outside option $x^o$. The idea is that instead of dealing with the player making her an offer, she can do \"something else\". This something else gives her $x^o$.\n",
    "\n",
    "Similarly, the player making the offer: she receives $\\bar x - x$ if the offer is accepted. If the offer is not accepted, this player also receives her outside option.\n",
    "\n",
    "In the game considered here, player 1 makes the offer and player 2 decides whether to accept of reject this offer. Let the outside option of player $i$ be denoted by $x^o_i$, $i \\in \\{1,2\\}$.\n",
    "\n",
    "When should player 2 accept the offer $x$? She should accept if $x$ gives her at least her outside option. If $x < x^o_2$, she is better off rejecting the offer as this will give her $x_2^o$ which exceeds the offer $x$.\n",
    "\n",
    "We define a function `accept_offer` in python which determines whether an offer is acceptable or not. This function takes two arguments: the offer that is made and the outside option of the player who decides whether or not to accept the offer. If the offer exceeds the outside option, she accepts the offer.\n",
    "\n",
    "In this function, we define the `accept` decision as a boolean. If you forgot about this, google \"python boolean\". In the code below, we will use that `FALSE` in python equals 0 while `TRUE` equals 1.\n"
   ]
  },
  {
   "cell_type": "code",
   "execution_count": 24,
   "metadata": {},
   "outputs": [],
   "source": [
    "def accept_offer(offer,your_outside_option):\n",
    "    accept = (offer >= your_outside_option)\n",
    "    return accept"
   ]
  },
  {
   "cell_type": "markdown",
   "metadata": {},
   "source": [
    "Hence, if player 2 receives an offer of 4 and has an outside option equal to 5, she rejects the offer:"
   ]
  },
  {
   "cell_type": "code",
   "execution_count": 25,
   "metadata": {},
   "outputs": [
    {
     "data": {
      "text/plain": [
       "0"
      ]
     },
     "execution_count": 25,
     "metadata": {},
     "output_type": "execute_result"
    }
   ],
   "source": [
    "outside_options[2][0]"
   ]
  },
  {
   "cell_type": "markdown",
   "metadata": {},
   "source": [
    "---------\n",
    "\n",
    "**Exercise**\n",
    "\n",
    "Multiply `accept_offer(4,5)` by `4`. What do you get?\n",
    "\n",
    "------------"
   ]
  },
  {
   "cell_type": "code",
   "execution_count": 28,
   "metadata": {
    "deletable": false,
    "nbgrader": {
     "checksum": "23566870e28f060225fffceeddad9b49",
     "grade": false,
     "grade_id": "cell-d1ef03611b7e9fda",
     "locked": false,
     "schema_version": 1,
     "solution": true
    }
   },
   "outputs": [
    {
     "data": {
      "text/plain": [
       "0"
      ]
     },
     "execution_count": 28,
     "metadata": {},
     "output_type": "execute_result"
    }
   ],
   "source": [
    "accept_offer(4,5)*4"
   ]
  },
  {
   "cell_type": "markdown",
   "metadata": {},
   "source": [
    "To figure out which offer player 1 should make to player 2, we plot the profits of player 1 as a function of the offers made and the outside option of player 2. \n",
    "\n",
    "We plot these profits using `matplotlib`. We import this library and we tell the Jupyter notebook that the plots we make should be shown \"inline\" in the notebook.\n"
   ]
  },
  {
   "cell_type": "code",
   "execution_count": 29,
   "metadata": {},
   "outputs": [],
   "source": [
    "import matplotlib.pyplot as plt\n",
    "%matplotlib inline\n"
   ]
  },
  {
   "cell_type": "markdown",
   "metadata": {},
   "source": [
    "We specify the points on the horizontal axis (\"x\") with the list `offers` and then give a list with coordinates of the vertical axis (\"y\"). The y-coordinate gives the payoff of the offfer. If the offer is rejected, player 1 gets 0 (and is probably better off with the outside option). If the offer $x$ is accepted, player 1 receives $\\bar x -x$. Note that we use here that `accept_offer` equals 1 (0) when `TRUE` (`FALSE`)."
   ]
  },
  {
   "cell_type": "code",
   "execution_count": 30,
   "metadata": {},
   "outputs": [
    {
     "data": {
      "image/png": "[encoded data removed]",
      "text/plain": [
       "<matplotlib.figure.Figure at 0x1f211adec18>"
      ]
     },
     "metadata": {},
     "output_type": "display_data"
    }
   ],
   "source": [
    "plt.plot(offers,[(max_offer-offer)*accept_offer(offer,4) for offer in offers])\n",
    "plt.show()\n"
   ]
  },
  {
   "cell_type": "markdown",
   "metadata": {},
   "source": [
    "Hence, the best offer that you can make is the lowest offer that is still accepted by the other player. Hence, player 1 offers player 2 the outside option $x_2^o$.\n",
    "\n",
    "We can add text to the horizontal and vertical axes to explain what they represent (offer and profit, resp.). We can add a title to the graph. We can generare the profit for different values of the outside option by using `for outside in [6,7,8,9]`.\n"
   ]
  },
  {
   "cell_type": "code",
   "execution_count": 31,
   "metadata": {},
   "outputs": [
    {
     "data": {
      "image/png": "[encoded data removed]",
      "text/plain": [
       "<matplotlib.figure.Figure at 0x1f211ade320>"
      ]
     },
     "metadata": {},
     "output_type": "display_data"
    }
   ],
   "source": [
    "for outside in [6,7,8,9]:\n",
    "    plt.plot(offers,[(max_offer-offer)*accept_offer(offer,outside) for offer in offers], label = \"opponent's outside option: \"+str(outside))\n",
    "\n",
    "\n",
    "plt.xlabel('offer')\n",
    "plt.ylabel('profit')\n",
    "plt.title(\"Player's profit as a function of the offer and the opponent's outside option\")\n",
    "plt.legend()\n",
    "plt.show()"
   ]
  },
  {
   "cell_type": "markdown",
   "metadata": {},
   "source": [
    "Now we can determine the optimal offer made by player 1. From the list `profits` choose the highest number and denote this by `max_profit`. Then `max_index` captures the position in `profits` of this `max_profit`. With this `max_index` we can figure out what the offer is that leads to this highest profit: `offers[max_index]`. \n",
    "\n",
    "Finally, we need to check whether the max. profit that player 1 can earn --if her offer is accepted-- exceeds her outside option.\n",
    "\n",
    "The function `make_offer` does these things and returns a list with the optimal offer ($-1$ if the optimal offer leads to a lower payoff than player 1's outside option)."
   ]
  },
  {
   "cell_type": "code",
   "execution_count": 32,
   "metadata": {},
   "outputs": [],
   "source": [
    "def make_offer(your_outside_option,other_outside_option):\n",
    "    profits = [(max_offer-offer)*accept_offer(offer,other_outside_option) for offer in offers]\n",
    "    max_profit = max(profits)\n",
    "    max_index = profits.index(max_profit)\n",
    "    if max_profit >= your_outside_option:\n",
    "        your_offer = offers[max_index]\n",
    "        your_profit = max_offer-offers[max_index]\n",
    "        other_profit = offers[max_index]\n",
    "    else:\n",
    "        your_offer = -1 # no offer is made\n",
    "        your_profit = your_outside_option\n",
    "        other_profit = other_outside_option\n",
    "    return your_offer, your_profit, other_profit"
   ]
  },
  {
   "cell_type": "markdown",
   "metadata": {},
   "source": [
    "Consider the case where players 1 and 2 do not have an outside option. That is, $x_1^o=x_2^o=0$. Then player 1 offers $x=0$ to player 2. Player 2 accepts this offer (outside option is not better than this). Player 1 receives a payoff equal to 10 and player 2 receives 0.\n",
    "\n",
    "----------\n",
    "\n",
    "**Exercise**\n",
    "\n",
    "Check this claim using the function `make_offer`.\n",
    "\n",
    "-----------"
   ]
  },
  {
   "cell_type": "code",
   "execution_count": 33,
   "metadata": {
    "deletable": false,
    "nbgrader": {
     "checksum": "af4ab29235eff81e415584be762f931d",
     "grade": false,
     "grade_id": "cell-70e202ccb1231174",
     "locked": false,
     "schema_version": 1,
     "solution": true
    }
   },
   "outputs": [
    {
     "data": {
      "text/plain": [
       "(0.0, 10.0, 0.0)"
      ]
     },
     "execution_count": 33,
     "metadata": {},
     "output_type": "execute_result"
    }
   ],
   "source": [
    "make_offer(0,0)"
   ]
  },
  {
   "cell_type": "markdown",
   "metadata": {},
   "source": [
    "This outcome is very asymmetric and extreme. Intuitively, this is due to the fact that only player 1 can make offers. A natural extension is to allow player 2 to make an offer as well. "
   ]
  },
  {
   "cell_type": "markdown",
   "metadata": {},
   "source": [
    "## Two period model\n",
    "\n",
    "Consider a two period version of the bargaining model above. Player 1 can make an offer $x_1$ in the first period. If this offer is accepted by player 2, the game is finished. If player 2 rejects the offer, then we move to the second stage in which player 2 is allowed to make an offer $x_2$ to player 1. Player 1 can accept or reject this offer. If player 1 accepts, her payoff equals $x_2$ and player 2's payoff equals $\\bar x - x_2$.\n",
    "\n",
    "Payoffs are discounted with discount factor $\\delta \\in \\langle 0,1 \\rangle$. Hence, if player 1's offer in the first period is rejected, while player 2's offer in the second period is accepted, players 1 and 2's payoffs equal $\\delta x_2, \\delta (\\bar x - x_2)$ resp.\n",
    "\n",
    "Assume that the (exogenous) outside option for both players equals 0. \n",
    "\n",
    "Player 1 makes an offer $x$ to player 2 in the first period. If this offer is accepted, 2 gets $x$ and 1 receives $\\bar x - x$ and the game is over.\n",
    "\n",
    "If player 2 rejects 1's offer, the game moves to the second (and last) period. In this period, player 2 can make the offer. What offer will player 2 make?\n"
   ]
  },
  {
   "cell_type": "code",
   "execution_count": 35,
   "metadata": {},
   "outputs": [],
   "source": [
    "delta = 0.9\n",
    "outside_options = {} # dictionary of outside options as a function (key) of period\n",
    "outside_options[2]= [0,0] # first element in the list is 1's outside option, \n",
    "                          # second element 2's outside option in period 2\n",
    "\n",
    "\n",
    "\n"
   ]
  },
  {
   "cell_type": "markdown",
   "metadata": {},
   "source": [
    "In period 2, player 2 makes the offer:"
   ]
  },
  {
   "cell_type": "code",
   "execution_count": 36,
   "metadata": {},
   "outputs": [],
   "source": [
    "offer2 = make_offer(outside_options[2][1],outside_options[2][0])\n",
    "outside_options[1] = [delta*offer2[2],delta*offer2[1]]"
   ]
  },
  {
   "cell_type": "markdown",
   "metadata": {},
   "source": [
    "Now we move back one period, to the first period where player 1 makes the offer.\n",
    "\n",
    "---------\n",
    "\n",
    "**Exercise**\n",
    "\n",
    "* what is player 2's outside option in the first period?\n",
    "* use the function `make_offer` to determine the offer that player 1 makes in the first period. Which element of `outside_options[1]` is player 1's outside option and which element player 2's outside option?\n"
   ]
  },
  {
   "cell_type": "code",
   "execution_count": 34,
   "metadata": {
    "deletable": false,
    "nbgrader": {
     "checksum": "d17b59adc5ffb504b72e951ef7264a8f",
     "grade": false,
     "grade_id": "cell-f8a6b3d58916da29",
     "locked": false,
     "schema_version": 1,
     "solution": true
    }
   },
   "outputs": [
    {
     "data": {
      "text/plain": [
       "(9.0, 1.0, 9.0)"
      ]
     },
     "execution_count": 34,
     "metadata": {},
     "output_type": "execute_result"
    }
   ],
   "source": [
    "make_offer(outside_options[1][0],outside_options[1][1])"
   ]
  },
  {
   "cell_type": "markdown",
   "metadata": {},
   "source": [
    "---------\n",
    "\n",
    "**Exercise**\n",
    "\n",
    "What is player 1's payoff in this two period game? Explain why this is different from the one period game.\n",
    "\n",
    "-----------"
   ]
  },
  {
   "cell_type": "code",
   "execution_count": null,
   "metadata": {},
   "outputs": [],
   "source": [
    "1, player 1 can't offer 0 to player 2 because player 2 will reject and keep 9 for himself the next round. to prevent this, player 1 has to offer 9 to player 2, which leaves player 1 with 1"
   ]
  },
  {
   "cell_type": "code",
   "execution_count": null,
   "metadata": {},
   "outputs": [],
   "source": []
  },
  {
   "cell_type": "markdown",
   "metadata": {
    "deletable": false,
    "nbgrader": {
     "checksum": "7233a467a55ea6cadf188f7616bee1c6",
     "grade": true,
     "grade_id": "cell-2355691bb905e927",
     "locked": false,
     "points": 0,
     "schema_version": 1,
     "solution": true
    }
   },
   "source": [
    "YOUR ANSWER HERE"
   ]
  },
  {
   "cell_type": "markdown",
   "metadata": {
    "collapsed": true
   },
   "source": [
    "## Three periods"
   ]
  },
  {
   "cell_type": "markdown",
   "metadata": {},
   "source": [
    "Now we extend the model above to a three period bargaining problem. We want to use the function `make_offer` to keep track of the outside options without defining a new dictionary `outside_options` (as we did above).\n",
    "\n",
    "As above, we use backward induction to solve the game. That is, we first consider what happens in period 3 --in case the offers made in periods 1 and 2 are rejected. Once we know what will happen in period 3, we can move back to period 2 and then to period 1."
   ]
  },
  {
   "cell_type": "code",
   "execution_count": 37,
   "metadata": {},
   "outputs": [],
   "source": [
    "offers = np.arange(min_offer,max_offer+0.1,0.1)"
   ]
  },
  {
   "cell_type": "markdown",
   "metadata": {},
   "source": [
    "To do this, we create a dictionary `offer`. \n",
    "\n",
    "----------\n",
    "\n",
    "**Exercise** \n",
    "\n",
    "Explain what the following code does (e.g. what is `offer[4]`?).\n",
    "\n",
    "----------"
   ]
  },
  {
   "cell_type": "code",
   "execution_count": 39,
   "metadata": {},
   "outputs": [],
   "source": [
    "delta = 0.9\n",
    "offer = {}\n",
    "offer[4] = [0,0,0]\n",
    "offer[3] = make_offer(delta*offer[4][2],delta*offer[4][1])\n"
   ]
  },
  {
   "cell_type": "markdown",
   "metadata": {
    "deletable": false,
    "nbgrader": {
     "checksum": "6439c3daf321af752f874172a10983ce",
     "grade": true,
     "grade_id": "cell-3e82380eae72ee3c",
     "locked": false,
     "points": 0,
     "schema_version": 1,
     "solution": true
    }
   },
   "source": [
    "YOUR ANSWER HERE"
   ]
  },
  {
   "cell_type": "code",
   "execution_count": null,
   "metadata": {},
   "outputs": [],
   "source": [
    "0"
   ]
  },
  {
   "cell_type": "markdown",
   "metadata": {
    "collapsed": true
   },
   "source": [
    "-------\n",
    "\n",
    "**Exercise** \n",
    "\n",
    "Using the logic above, define `offer[2]` and `offer[1]`.\n",
    "\n",
    "---------"
   ]
  },
  {
   "cell_type": "code",
   "execution_count": 1,
   "metadata": {
    "deletable": false,
    "nbgrader": {
     "checksum": "a926d511ee6cb0d2d8cf9313ed723006",
     "grade": false,
     "grade_id": "cell-597d9e0d68ae02ea",
     "locked": false,
     "schema_version": 1,
     "solution": true
    }
   },
   "outputs": [
    {
     "ename": "NameError",
     "evalue": "name 'make_offer' is not defined",
     "output_type": "error",
     "traceback": [
      "\u001b[1;31m---------------------------------------------------------------------------\u001b[0m",
      "\u001b[1;31mNameError\u001b[0m                                 Traceback (most recent call last)",
      "\u001b[1;32m<ipython-input-1-f73f19b768f3>\u001b[0m in \u001b[0;36m<module>\u001b[1;34m()\u001b[0m\n\u001b[1;32m----> 1\u001b[1;33m \u001b[0moffer\u001b[0m\u001b[1;33m[\u001b[0m\u001b[1;36m2\u001b[0m\u001b[1;33m]\u001b[0m\u001b[1;33m=\u001b[0m\u001b[0mmake_offer\u001b[0m\u001b[1;33m(\u001b[0m\u001b[0mdelta\u001b[0m\u001b[1;33m*\u001b[0m\u001b[0moffer\u001b[0m\u001b[1;33m[\u001b[0m\u001b[1;36m4\u001b[0m\u001b[1;33m]\u001b[0m\u001b[1;33m[\u001b[0m\u001b[1;36m1\u001b[0m\u001b[1;33m]\u001b[0m\u001b[1;33m,\u001b[0m \u001b[0mother_outside_options\u001b[0m\u001b[1;33m[\u001b[0m\u001b[1;36m0\u001b[0m\u001b[1;33m,\u001b[0m\u001b[1;36m0\u001b[0m\u001b[1;33m]\u001b[0m\u001b[1;33m)\u001b[0m\u001b[1;33m\u001b[0m\u001b[0m\n\u001b[0m",
      "\u001b[1;31mNameError\u001b[0m: name 'make_offer' is not defined"
     ]
    }
   ],
   "source": [
    "offer[2]=make_offer(delta*offer[4][1], other_outside_options[0,0])"
   ]
  },
  {
   "cell_type": "markdown",
   "metadata": {},
   "source": [
    "----------\n",
    "\n",
    "**Exercise** \n",
    "\n",
    "What are the payoffs for players 1 and 2 in a three period version of the bargaining model in the lecture? Explain this outcome.\n",
    "\n",
    "-----------"
   ]
  },
  {
   "cell_type": "code",
   "execution_count": null,
   "metadata": {
    "deletable": false,
    "nbgrader": {
     "checksum": "d186d7eabaa803b7a75e7b39f1e2c1a0",
     "grade": false,
     "grade_id": "cell-264848c6597d098b",
     "locked": false,
     "schema_version": 1,
     "solution": true
    }
   },
   "outputs": [],
   "source": []
  },
  {
   "cell_type": "markdown",
   "metadata": {
    "deletable": false,
    "nbgrader": {
     "checksum": "be28ba3ef21dac7ce0717b59d9f74396",
     "grade": true,
     "grade_id": "cell-e3bf322e63789528",
     "locked": false,
     "points": 0,
     "schema_version": 1,
     "solution": true
    }
   },
   "source": [
    "YOUR ANSWER HERE"
   ]
  },
  {
   "cell_type": "markdown",
   "metadata": {
    "collapsed": true
   },
   "source": [
    "--------\n",
    "\n",
    "**Exercise** \n",
    "\n",
    "In which period will the players reach an agreement?\n",
    "\n",
    "----------"
   ]
  },
  {
   "cell_type": "markdown",
   "metadata": {
    "deletable": false,
    "nbgrader": {
     "checksum": "f5bc19bbc8665be7a8739204f8d89137",
     "grade": true,
     "grade_id": "cell-bd44348dcd11f04e",
     "locked": false,
     "points": 0,
     "schema_version": 1,
     "solution": true
    }
   },
   "source": [
    "YOUR ANSWER HERE"
   ]
  },
  {
   "cell_type": "markdown",
   "metadata": {},
   "source": [
    "# Numerical Math with Python\n",
    "\n",
    "Python can maximize and minimize functions and solve equations. These routines can be found in the scipy library. Here we look at `fsolve` to solve equations.\n"
   ]
  },
  {
   "cell_type": "code",
   "execution_count": 1,
   "metadata": {},
   "outputs": [],
   "source": [
    "from scipy import optimize"
   ]
  },
  {
   "cell_type": "markdown",
   "metadata": {},
   "source": [
    "---------\n",
    "\n",
    "**Exercise**\n",
    "\n",
    "Define a function `my_function` equal to $x^2+c$; this is a function of $x$ for a given value of $c$.\n",
    "\n",
    "---------"
   ]
  },
  {
   "cell_type": "code",
   "execution_count": 2,
   "metadata": {
    "deletable": false,
    "nbgrader": {
     "checksum": "3e3d9182ffe6a28352149afd59f95548",
     "grade": false,
     "grade_id": "cell-b30004159b9f0d3a",
     "locked": false,
     "schema_version": 1,
     "solution": true
    }
   },
   "outputs": [],
   "source": [
    "def my_function(x,c):\n",
    "    return x**2+c"
   ]
  },
  {
   "cell_type": "markdown",
   "metadata": {},
   "source": [
    "Now we would like to solve $x^2 + c =0$. As this is a simple equation, you can this analytically. This helps us to understand how `fsolve` works.\n",
    "\n",
    "If you want to know more about `fsolve`, simply google \"python fsolve\".\n",
    "\n",
    "For our purposes here, we call `fsolve` as `optimize.fsolve`, then we give a function and an initial value where `fsolve` starts looking for a solution. `fsolve` uses numerical techniques to find the \"zero\" of a function; it does not solve the equation analytically. Roughly speaking, it looks at the value $f(x)$ of a given $x$ and checks whether $f(x)$ it is above or below 0. If it is below 0, it needs to change $x$ in such a way that $f(x)$ increases. It uses the derivative $f'(x)$ to figure out whether it should increase or decrease $x$ to get to $f(x)=0$. So suppose that $f(x) < 0$ and $f'(x) >0$ then it will increase $x$ (move to the right) to a solution to $f(x) =0$.\n",
    "\n",
    "As `my_function` is actually a function of two variables ($x$ and $c$), we define a new \"anonymous\" function `lambda` that is only a function of $x$ and we solve for this function to 0. Say, we start looking for a solution at $x=1$, then we type:"
   ]
  },
  {
   "cell_type": "code",
   "execution_count": 3,
   "metadata": {},
   "outputs": [
    {
     "data": {
      "text/plain": [
       "array([1.41421356])"
      ]
     },
     "execution_count": 3,
     "metadata": {},
     "output_type": "execute_result"
    }
   ],
   "source": [
    "optimize.fsolve(lambda x: my_function(x,-2),+1)"
   ]
  },
  {
   "cell_type": "markdown",
   "metadata": {},
   "source": [
    "This only gives one solution? But with a quadratic equation, there are usually two solutions. \n",
    "\n",
    "----------\n",
    "\n",
    "**Exercise**\n",
    "\n",
    "In the following cell give the python command to give the other solution.\n",
    "\n",
    "-----------"
   ]
  },
  {
   "cell_type": "code",
   "execution_count": 6,
   "metadata": {
    "deletable": false,
    "nbgrader": {
     "checksum": "f7e76a66265663ef31dd9513abea9c05",
     "grade": false,
     "grade_id": "cell-b4737b2a4dc39c12",
     "locked": false,
     "schema_version": 1,
     "solution": true
    }
   },
   "outputs": [
    {
     "data": {
      "text/plain": [
       "array([-1.41421356])"
      ]
     },
     "execution_count": 6,
     "metadata": {},
     "output_type": "execute_result"
    }
   ],
   "source": [
    "optimize.fsolve(lambda x: my_function(x,-2),-1)"
   ]
  },
  {
   "cell_type": "markdown",
   "metadata": {},
   "source": [
    "Now try the following cell. \n",
    "\n",
    "---------\n",
    "\n",
    "**Exercise**\n",
    "\n",
    "Explain below why you get an error message.\n",
    "\n",
    "-----------"
   ]
  },
  {
   "cell_type": "code",
   "execution_count": 7,
   "metadata": {},
   "outputs": [
    {
     "name": "stderr",
     "output_type": "stream",
     "text": [
      "C:\\Users\\Iris\\Anaconda3\\lib\\site-packages\\scipy\\optimize\\minpack.py:161: RuntimeWarning: The iteration is not making good progress, as measured by the \n",
      "  improvement from the last ten iterations.\n",
      "  warnings.warn(msg, RuntimeWarning)\n"
     ]
    },
    {
     "data": {
      "text/plain": [
       "array([0.])"
      ]
     },
     "execution_count": 7,
     "metadata": {},
     "output_type": "execute_result"
    }
   ],
   "source": [
    "optimize.fsolve(lambda x: my_function(x,-2),0)"
   ]
  },
  {
   "cell_type": "markdown",
   "metadata": {
    "deletable": false,
    "nbgrader": {
     "checksum": "b6683467fc80779c0108557c84ee061b",
     "grade": true,
     "grade_id": "cell-1d61c3eac6d008c0",
     "locked": false,
     "points": 0,
     "schema_version": 1,
     "solution": true
    }
   },
   "source": [
    "YOUR ANSWER HERE"
   ]
  },
  {
   "cell_type": "code",
   "execution_count": null,
   "metadata": {},
   "outputs": [],
   "source": [
    "er is geen waarde bij 0"
   ]
  },
  {
   "cell_type": "markdown",
   "metadata": {},
   "source": [
    "Now we let's consider another function, with $c = 2$ (instead of $c = -2$). Explain below why we get an error this time"
   ]
  },
  {
   "cell_type": "code",
   "execution_count": 8,
   "metadata": {},
   "outputs": [
    {
     "name": "stderr",
     "output_type": "stream",
     "text": [
      "C:\\Users\\Iris\\Anaconda3\\lib\\site-packages\\scipy\\optimize\\minpack.py:161: RuntimeWarning: The iteration is not making good progress, as measured by the \n",
      "  improvement from the last ten iterations.\n",
      "  warnings.warn(msg, RuntimeWarning)\n"
     ]
    },
    {
     "data": {
      "text/plain": [
       "array([-0.00097656])"
      ]
     },
     "execution_count": 8,
     "metadata": {},
     "output_type": "execute_result"
    }
   ],
   "source": [
    "optimize.fsolve(lambda x: my_function(x,2),-1)"
   ]
  },
  {
   "cell_type": "markdown",
   "metadata": {
    "deletable": false,
    "nbgrader": {
     "checksum": "56772aa8adee23fb5576727a62008d21",
     "grade": true,
     "grade_id": "cell-d2d8f7fb7bd6473e",
     "locked": false,
     "points": 0,
     "schema_version": 1,
     "solution": true
    }
   },
   "source": [
    "YOUR ANSWER HERE"
   ]
  },
  {
   "cell_type": "code",
   "execution_count": null,
   "metadata": {},
   "outputs": [],
   "source": []
  },
  {
   "cell_type": "markdown",
   "metadata": {},
   "source": [
    "-------\n",
    "\n",
    "**Exercise**\n",
    "\n",
    "Define the function $f(x) = \\cos(x)+2$ in python. Hint: you may have to google to see how to do this.\n",
    "\n",
    "\n",
    "---------"
   ]
  },
  {
   "cell_type": "code",
   "execution_count": 2,
   "metadata": {
    "deletable": false,
    "nbgrader": {
     "checksum": "42a055de12ca6b1c28f18372ec23d518",
     "grade": false,
     "grade_id": "cell-b183e834350e6615",
     "locked": false,
     "schema_version": 1,
     "solution": true
    }
   },
   "outputs": [
    {
     "ename": "NameError",
     "evalue": "name 'cos' is not defined",
     "output_type": "error",
     "traceback": [
      "\u001b[1;31m---------------------------------------------------------------------------\u001b[0m",
      "\u001b[1;31mNameError\u001b[0m                                 Traceback (most recent call last)",
      "\u001b[1;32m<ipython-input-2-e23caea64b91>\u001b[0m in \u001b[0;36m<module>\u001b[1;34m()\u001b[0m\n\u001b[1;32m----> 1\u001b[1;33m \u001b[0mycos\u001b[0m\u001b[1;33m=\u001b[0m\u001b[0mcos\u001b[0m\u001b[1;33m(\u001b[0m\u001b[0mx\u001b[0m\u001b[1;33m)\u001b[0m\u001b[1;33m+\u001b[0m\u001b[1;36m2\u001b[0m\u001b[1;33m\u001b[0m\u001b[0m\n\u001b[0m",
      "\u001b[1;31mNameError\u001b[0m: name 'cos' is not defined"
     ]
    }
   ],
   "source": [
    "ycos=cos(x)+2"
   ]
  },
  {
   "cell_type": "markdown",
   "metadata": {},
   "source": [
    "----------\n",
    "\n",
    "**Exercise**\n",
    "\n",
    "Plot this function for $x \\in [0,7]$. \n",
    "\n",
    "---------"
   ]
  },
  {
   "cell_type": "code",
   "execution_count": 3,
   "metadata": {
    "deletable": false,
    "nbgrader": {
     "checksum": "f58bd56893c4e51274a2ba64effe2dc3",
     "grade": false,
     "grade_id": "cell-ed854a0c0ea87293",
     "locked": false,
     "schema_version": 1,
     "solution": true
    }
   },
   "outputs": [
    {
     "ename": "NameError",
     "evalue": "name 'plt' is not defined",
     "output_type": "error",
     "traceback": [
      "\u001b[1;31m---------------------------------------------------------------------------\u001b[0m",
      "\u001b[1;31mNameError\u001b[0m                                 Traceback (most recent call last)",
      "\u001b[1;32m<ipython-input-3-320713d9e4fa>\u001b[0m in \u001b[0;36m<module>\u001b[1;34m()\u001b[0m\n\u001b[1;32m----> 1\u001b[1;33m \u001b[0mplt\u001b[0m\u001b[1;33m.\u001b[0m\u001b[0mplot\u001b[0m\u001b[1;33m(\u001b[0m\u001b[0mx\u001b[0m\u001b[1;33m,\u001b[0m\u001b[0mycos\u001b[0m\u001b[1;33m)\u001b[0m\u001b[1;33m\u001b[0m\u001b[0m\n\u001b[0m\u001b[0;32m      2\u001b[0m \u001b[0mplt\u001b[0m\u001b[1;33m.\u001b[0m\u001b[0mshow\u001b[0m\u001b[1;33m(\u001b[0m\u001b[1;33m)\u001b[0m\u001b[1;33m\u001b[0m\u001b[0m\n",
      "\u001b[1;31mNameError\u001b[0m: name 'plt' is not defined"
     ]
    }
   ],
   "source": [
    "plt.plot(x,ycos)\n",
    "plt.show()"
   ]
  },
  {
   "cell_type": "code",
   "execution_count": null,
   "metadata": {},
   "outputs": [],
   "source": []
  }
 ],
 "metadata": {
  "anaconda-cloud": {},
  "kernelspec": {
   "display_name": "Python 3",
   "language": "python",
   "name": "python3"
  },
  "language_info": {
   "codemirror_mode": {
    "name": "ipython",
    "version": 3
   },
   "file_extension": ".py",
   "mimetype": "text/x-python",
   "name": "python",
   "nbconvert_exporter": "python",
   "pygments_lexer": "ipython3",
   "version": "3.6.4"
  }
 },
 "nbformat": 4,
 "nbformat_minor": 1
}
